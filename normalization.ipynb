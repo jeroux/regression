{
 "cells": [
  {
   "cell_type": "code",
   "execution_count": 128,
   "metadata": {},
   "outputs": [],
   "source": [
    "import pandas as pd\n",
    "import numpy as np\n",
    "\n",
    "from sklearn.pipeline import make_pipeline\n",
    "from sklearn.ensemble import BaggingRegressor\n",
    "from sklearn.preprocessing import StandardScaler, OneHotEncoder, PolynomialFeatures, Normalizer\n",
    "from sklearn.impute import SimpleImputer\n",
    "from sklearn.linear_model import *\n",
    "from sklearn.compose import make_column_transformer\n",
    "from sklearn.model_selection import train_test_split\n",
    "\n",
    "from matplotlib import pyplot as plt\n",
    "\n",
    "from xgboost import XGBRegressor"
   ]
  },
  {
   "cell_type": "code",
   "execution_count": 205,
   "metadata": {},
   "outputs": [
    {
     "data": {
      "text/html": [
       "<div>\n",
       "<style scoped>\n",
       "    .dataframe tbody tr th:only-of-type {\n",
       "        vertical-align: middle;\n",
       "    }\n",
       "\n",
       "    .dataframe tbody tr th {\n",
       "        vertical-align: top;\n",
       "    }\n",
       "\n",
       "    .dataframe thead th {\n",
       "        text-align: right;\n",
       "    }\n",
       "</style>\n",
       "<table border=\"1\" class=\"dataframe\">\n",
       "  <thead>\n",
       "    <tr style=\"text-align: right;\">\n",
       "      <th></th>\n",
       "      <th>Unnamed: 0</th>\n",
       "      <th>Locality</th>\n",
       "      <th>Type of property</th>\n",
       "      <th>Price</th>\n",
       "      <th>Number of rooms</th>\n",
       "      <th>Area</th>\n",
       "      <th>Fully equipped kitchen</th>\n",
       "      <th>Furnished</th>\n",
       "      <th>Open fire</th>\n",
       "      <th>Terrace Area</th>\n",
       "      <th>Garden Area</th>\n",
       "      <th>Surface of the land</th>\n",
       "      <th>Number of facades</th>\n",
       "      <th>Swimming pool</th>\n",
       "      <th>State of the building</th>\n",
       "      <th>Province</th>\n",
       "      <th>Region</th>\n",
       "      <th>PriceperMeter</th>\n",
       "    </tr>\n",
       "  </thead>\n",
       "  <tbody>\n",
       "    <tr>\n",
       "      <th>0</th>\n",
       "      <td>0</td>\n",
       "      <td>2970</td>\n",
       "      <td>apartment</td>\n",
       "      <td>764999.0</td>\n",
       "      <td>2.0</td>\n",
       "      <td>153.0</td>\n",
       "      <td>0.0</td>\n",
       "      <td>0.0</td>\n",
       "      <td>0.0</td>\n",
       "      <td>62.0</td>\n",
       "      <td>0.0</td>\n",
       "      <td>215.0</td>\n",
       "      <td>2.0</td>\n",
       "      <td>0.0</td>\n",
       "      <td>medium</td>\n",
       "      <td>Anvers</td>\n",
       "      <td>Flanders</td>\n",
       "      <td>4999.0</td>\n",
       "    </tr>\n",
       "    <tr>\n",
       "      <th>1</th>\n",
       "      <td>1</td>\n",
       "      <td>3200</td>\n",
       "      <td>apartment</td>\n",
       "      <td>294999.0</td>\n",
       "      <td>2.0</td>\n",
       "      <td>80.0</td>\n",
       "      <td>0.0</td>\n",
       "      <td>0.0</td>\n",
       "      <td>0.0</td>\n",
       "      <td>0.0</td>\n",
       "      <td>0.0</td>\n",
       "      <td>80.0</td>\n",
       "      <td>2.0</td>\n",
       "      <td>0.0</td>\n",
       "      <td>medium</td>\n",
       "      <td>Brabant Flamand</td>\n",
       "      <td>Flanders</td>\n",
       "      <td>3687.0</td>\n",
       "    </tr>\n",
       "    <tr>\n",
       "      <th>2</th>\n",
       "      <td>2</td>\n",
       "      <td>8211</td>\n",
       "      <td>apartment</td>\n",
       "      <td>233999.0</td>\n",
       "      <td>2.0</td>\n",
       "      <td>90.0</td>\n",
       "      <td>0.0</td>\n",
       "      <td>0.0</td>\n",
       "      <td>0.0</td>\n",
       "      <td>0.0</td>\n",
       "      <td>0.0</td>\n",
       "      <td>90.0</td>\n",
       "      <td>2.0</td>\n",
       "      <td>0.0</td>\n",
       "      <td>medium</td>\n",
       "      <td>Flandre Occidental</td>\n",
       "      <td>Flanders</td>\n",
       "      <td>2599.0</td>\n",
       "    </tr>\n",
       "    <tr>\n",
       "      <th>3</th>\n",
       "      <td>3</td>\n",
       "      <td>2630</td>\n",
       "      <td>apartment</td>\n",
       "      <td>329899.0</td>\n",
       "      <td>1.0</td>\n",
       "      <td>87.0</td>\n",
       "      <td>0.0</td>\n",
       "      <td>0.0</td>\n",
       "      <td>0.0</td>\n",
       "      <td>28.0</td>\n",
       "      <td>0.0</td>\n",
       "      <td>115.0</td>\n",
       "      <td>2.0</td>\n",
       "      <td>0.0</td>\n",
       "      <td>medium</td>\n",
       "      <td>Anvers</td>\n",
       "      <td>Flanders</td>\n",
       "      <td>3791.0</td>\n",
       "    </tr>\n",
       "    <tr>\n",
       "      <th>4</th>\n",
       "      <td>4</td>\n",
       "      <td>2630</td>\n",
       "      <td>apartment</td>\n",
       "      <td>359899.0</td>\n",
       "      <td>1.0</td>\n",
       "      <td>95.0</td>\n",
       "      <td>0.0</td>\n",
       "      <td>0.0</td>\n",
       "      <td>0.0</td>\n",
       "      <td>47.0</td>\n",
       "      <td>0.0</td>\n",
       "      <td>142.0</td>\n",
       "      <td>4.0</td>\n",
       "      <td>0.0</td>\n",
       "      <td>medium</td>\n",
       "      <td>Anvers</td>\n",
       "      <td>Flanders</td>\n",
       "      <td>3788.0</td>\n",
       "    </tr>\n",
       "  </tbody>\n",
       "</table>\n",
       "</div>"
      ],
      "text/plain": [
       "   Unnamed: 0  Locality Type of property     Price  Number of rooms   Area  \\\n",
       "0           0      2970        apartment  764999.0              2.0  153.0   \n",
       "1           1      3200        apartment  294999.0              2.0   80.0   \n",
       "2           2      8211        apartment  233999.0              2.0   90.0   \n",
       "3           3      2630        apartment  329899.0              1.0   87.0   \n",
       "4           4      2630        apartment  359899.0              1.0   95.0   \n",
       "\n",
       "   Fully equipped kitchen  Furnished  Open fire  Terrace Area  Garden Area  \\\n",
       "0                     0.0        0.0        0.0          62.0          0.0   \n",
       "1                     0.0        0.0        0.0           0.0          0.0   \n",
       "2                     0.0        0.0        0.0           0.0          0.0   \n",
       "3                     0.0        0.0        0.0          28.0          0.0   \n",
       "4                     0.0        0.0        0.0          47.0          0.0   \n",
       "\n",
       "   Surface of the land  Number of facades  Swimming pool  \\\n",
       "0                215.0                2.0            0.0   \n",
       "1                 80.0                2.0            0.0   \n",
       "2                 90.0                2.0            0.0   \n",
       "3                115.0                2.0            0.0   \n",
       "4                142.0                4.0            0.0   \n",
       "\n",
       "  State of the building            Province    Region  PriceperMeter  \n",
       "0                medium              Anvers  Flanders         4999.0  \n",
       "1                medium     Brabant Flamand  Flanders         3687.0  \n",
       "2                medium  Flandre Occidental  Flanders         2599.0  \n",
       "3                medium              Anvers  Flanders         3791.0  \n",
       "4                medium              Anvers  Flanders         3788.0  "
      ]
     },
     "execution_count": 205,
     "metadata": {},
     "output_type": "execute_result"
    }
   ],
   "source": [
    "data = pd.read_csv(\"data8.csv\", sep=\",\")\n",
    "data.head()"
   ]
  },
  {
   "cell_type": "code",
   "execution_count": 206,
   "metadata": {},
   "outputs": [],
   "source": [
    "X = data.drop(\"Price\", axis = 1)\n",
    "y = data[\"Price\"]\n",
    "X_train, X_test, y_train, y_test = train_test_split(X, y, test_size=0.1, random_state=40)"
   ]
  },
  {
   "cell_type": "code",
   "execution_count": 97,
   "metadata": {},
   "outputs": [],
   "source": [
    "X_maison = data[data[\"Type of property\"] == \"house\"].drop(\"Price\", axis = 1)\n",
    "y_maison = data[\"Price\"][data[\"Type of property\"] == \"house\"]\n",
    "X_train, X_test, y_train, y_test = train_test_split(X_maison, y_maison, test_size=0.1, random_state=38)"
   ]
  },
  {
   "cell_type": "code",
   "execution_count": 115,
   "metadata": {},
   "outputs": [],
   "source": [
    "X_appartement = data[data[\"Type of property\"] == \"apartment\"].drop(\"Price\", axis = 1)\n",
    "y_appartement = data[\"Price\"][data[\"Type of property\"] == \"apartment\"]\n",
    "X_train, X_test, y_train, y_test = train_test_split(X_appartement, y_appartement, test_size=0.1, random_state=35)"
   ]
  },
  {
   "cell_type": "code",
   "execution_count": 181,
   "metadata": {},
   "outputs": [],
   "source": [
    "numerical_features = ['Locality', 'Area', 'Terrace Area', 'Garden Area', 'Surface of the land']\n",
    "categorial_features = ['Fully equipped kitchen', 'Furnished', 'Open fire',\n",
    "                       'Swimming pool', 'State of the building', 'Province', 'Region','Number of facades', 'Number of rooms' ]"
   ]
  },
  {
   "cell_type": "code",
   "execution_count": 197,
   "metadata": {},
   "outputs": [],
   "source": [
    "numerical_pipeline = make_pipeline(PolynomialFeatures(degree=3), StandardScaler())\n",
    "categorial_pipeline = make_pipeline(SimpleImputer(strategy=\"most_frequent\"), \n",
    "                                   OneHotEncoder())"
   ]
  },
  {
   "cell_type": "code",
   "execution_count": 227,
   "metadata": {},
   "outputs": [],
   "source": [
    "preprocessor = make_column_transformer((numerical_pipeline, numerical_features),\n",
    "                       (categorial_pipeline, categorial_features))\n",
    "bg = BaggingRegressor(base_estimator=XGBRegressor(n_estimators=100, verbosity=2, validate_parameters=True, eta=0.5, max_depth = 7, gamma=13),\n",
    "                      n_estimators=11, n_jobs=-1, verbose=1)"
   ]
  },
  {
   "cell_type": "code",
   "execution_count": 228,
   "metadata": {},
   "outputs": [
    {
     "name": "stderr",
     "output_type": "stream",
     "text": [
      "[Parallel(n_jobs=8)]: Using backend LokyBackend with 8 concurrent workers.\n",
      "[Parallel(n_jobs=8)]: Done   2 out of   8 | elapsed:  1.6min remaining:  4.8min\n",
      "[Parallel(n_jobs=8)]: Done   8 out of   8 | elapsed:  2.3min finished\n",
      "[Parallel(n_jobs=8)]: Using backend LokyBackend with 8 concurrent workers.\n",
      "[Parallel(n_jobs=8)]: Done   2 out of   8 | elapsed:    0.7s remaining:    2.3s\n",
      "[Parallel(n_jobs=8)]: Done   8 out of   8 | elapsed:    1.3s finished\n"
     ]
    },
    {
     "data": {
      "text/plain": [
       "0.7642575727748442"
      ]
     },
     "execution_count": 228,
     "metadata": {},
     "output_type": "execute_result"
    }
   ],
   "source": [
    "X = data.drop(\"Price\", axis = 1)\n",
    "y = data[\"Price\"]\n",
    "X_train, X_test, y_train, y_test = train_test_split(X, y, test_size=0.1, random_state=35)\n",
    "\n",
    "model = make_pipeline(preprocessor,bg)\n",
    "model.fit(X_train, y_train)\n",
    "model.score(X_test, y_test)"
   ]
  },
  {
   "cell_type": "code",
   "execution_count": 127,
   "metadata": {},
   "outputs": [
    {
     "name": "stdout",
     "output_type": "stream",
     "text": [
      "Pipeline(steps=[('columntransformer',\n",
      "                 ColumnTransformer(transformers=[('pipeline-1',\n",
      "                                                  Pipeline(steps=[('simpleimputer',\n",
      "                                                                   SimpleImputer()),\n",
      "                                                                  ('polynomialfeatures',\n",
      "                                                                   PolynomialFeatures(degree=3)),\n",
      "                                                                  ('standardscaler',\n",
      "                                                                   StandardScaler())]),\n",
      "                                                  ['Locality', 'Area',\n",
      "                                                   'Terrace Area',\n",
      "                                                   'Garden Area',\n",
      "                                                   'Surface of the land']),\n",
      "                                                 ('pipeline-2',\n",
      "                                                  Pipeline(steps=[('simpleimputer',\n",
      "                                                                   SimpleImputer...\n",
      "                                                              importance_type='gain',\n",
      "                                                              interaction_constraints=None,\n",
      "                                                              learning_rate=None,\n",
      "                                                              max_delta_step=None,\n",
      "                                                              max_depth=None,\n",
      "                                                              min_child_weight=None,\n",
      "                                                              missing=nan,\n",
      "                                                              monotone_constraints=None,\n",
      "                                                              n_estimators=100,\n",
      "                                                              n_jobs=None,\n",
      "                                                              num_parallel_tree=None,\n",
      "                                                              random_state=None,\n",
      "                                                              reg_alpha=None,\n",
      "                                                              reg_lambda=None,\n",
      "                                                              scale_pos_weight=None,\n",
      "                                                              subsample=None,\n",
      "                                                              tree_method=None,\n",
      "                                                              validate_parameters=None,\n",
      "                                                              verbosity=None)))])\n"
     ]
    }
   ],
   "source": [
    "import pickle\n",
    "file_name = \"xgb_reg_T2.pkl\"\n",
    "\n",
    "# save\n",
    "pickle.dump(model, open(file_name, \"wb\"))\n",
    "\n",
    "\n",
    "# # load\n",
    "model = pickle.load(open(file_name, \"rb\"))\n",
    "print(model)\n",
    "# # test\n",
    "# ind = 1\n",
    "# test = X_val[ind]\n",
    "# xgb_model_loaded.predict(test)[0] == xgb_model.predict(test)[0]"
   ]
  },
  {
   "cell_type": "code",
   "execution_count": 33,
   "metadata": {},
   "outputs": [
    {
     "data": {
      "text/plain": [
       "0.7908006557358647"
      ]
     },
     "execution_count": 33,
     "metadata": {},
     "output_type": "execute_result"
    }
   ],
   "source": [
    "model.score(X_test, y_test)"
   ]
  },
  {
   "cell_type": "code",
   "execution_count": 464,
   "metadata": {},
   "outputs": [
    {
     "data": {
      "text/plain": [
       "[<matplotlib.lines.Line2D at 0x2d701da73d0>]"
      ]
     },
     "execution_count": 464,
     "metadata": {},
     "output_type": "execute_result"
    },
    {
     "data": {
      "image/png": "[encoded data removed]",
      "text/plain": [
       "<Figure size 432x288 with 1 Axes>"
      ]
     },
     "metadata": {
      "needs_background": "light"
     },
     "output_type": "display_data"
    }
   ],
   "source": [
    "plt.scatter(X_test.index, y_test)\n",
    "plt.plot(X_test.index, prediction, c=\"r\")\n"
   ]
  },
  {
   "cell_type": "code",
   "execution_count": 138,
   "metadata": {},
   "outputs": [
    {
     "data": {
      "text/plain": [
       "Pipeline(steps=[('columntransformer',\n",
       "                 ColumnTransformer(transformers=[('pipeline-1',\n",
       "                                                  Pipeline(steps=[('simpleimputer',\n",
       "                                                                   SimpleImputer()),\n",
       "                                                                  ('polynomialfeatures',\n",
       "                                                                   PolynomialFeatures(degree=3)),\n",
       "                                                                  ('standardscaler',\n",
       "                                                                   StandardScaler())]),\n",
       "                                                  ['Locality', 'Area',\n",
       "                                                   'Terrace Area',\n",
       "                                                   'Garden Area',\n",
       "                                                   'Surface of the land']),\n",
       "                                                 ('pipeline-2',\n",
       "                                                  Pipeline(steps=[('simpleimputer',\n",
       "                                                                   SimpleImputer(strategy='most_frequent')),\n",
       "                                                                  ('onehotencoder',\n",
       "                                                                   OneHotEncoder())]),\n",
       "                                                  ['Fully equipped kitchen',\n",
       "                                                   'Furnished', 'Open fire',\n",
       "                                                   'Swimming pool',\n",
       "                                                   'State of the building',\n",
       "                                                   'Province', 'Region',\n",
       "                                                   'Number of facades',\n",
       "                                                   'Number of rooms'])])),\n",
       "                ('randomforestregressor',\n",
       "                 RandomForestRegressor(random_state=0))])"
      ]
     },
     "execution_count": 138,
     "metadata": {},
     "output_type": "execute_result"
    }
   ],
   "source": [
    "from sklearn.ensemble import RandomForestRegressor\n",
    "\n",
    "feature_names = [f'feature {i}' for i in range(X_maison.shape[1])]\n",
    "forest = make_pipeline(preprocessor, RandomForestRegressor(random_state=0))\n",
    "forest.fit(X_train[:1000], y_train[:1000])"
   ]
  },
  {
   "cell_type": "code",
   "execution_count": 139,
   "metadata": {},
   "outputs": [
    {
     "name": "stdout",
     "output_type": "stream",
     "text": [
      "Elapsed time to compute the importances: 0.028 seconds\n"
     ]
    }
   ],
   "source": [
    "import time\n",
    "import numpy as np\n",
    "\n",
    "start_time = time.time()\n",
    "importances = forest[-1].feature_importances_\n",
    "std = np.std([\n",
    "    tree.feature_importances_ for tree in forest[-1].estimators_], axis=0)\n",
    "elapsed_time = time.time() - start_time\n",
    "\n",
    "print(f\"Elapsed time to compute the importances: \"\n",
    "      f\"{elapsed_time:.3f} seconds\")"
   ]
  },
  {
   "cell_type": "code",
   "execution_count": 140,
   "metadata": {},
   "outputs": [
    {
     "data": {
      "image/png": "[encoded data removed]",
      "text/plain": [
       "<Figure size 432x288 with 1 Axes>"
      ]
     },
     "metadata": {
      "needs_background": "light"
     },
     "output_type": "display_data"
    }
   ],
   "source": [
    "import pandas as pd\n",
    "forest_importances = pd.Series(importances)\n",
    "\n",
    "fig, ax = plt.subplots()\n",
    "forest_importances.plot.bar(yerr=std, ax=ax)\n",
    "ax.set_title(\"Feature importances using MDI\")\n",
    "ax.set_ylabel(\"Mean decrease in impurity\")\n",
    "fig.tight_layout()"
   ]
  },
  {
   "cell_type": "code",
   "execution_count": null,
   "metadata": {},
   "outputs": [],
   "source": []
  }
 ],
 "metadata": {
  "kernelspec": {
   "display_name": "Python 3",
   "language": "python",
   "name": "python3"
  },
  "language_info": {
   "codemirror_mode": {
    "name": "ipython",
    "version": 3
   },
   "file_extension": ".py",
   "mimetype": "text/x-python",
   "name": "python",
   "nbconvert_exporter": "python",
   "pygments_lexer": "ipython3",
   "version": "3.8.5"
  }
 },
 "nbformat": 4,
 "nbformat_minor": 4
}
